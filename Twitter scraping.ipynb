{
 "cells": [
  {
   "cell_type": "markdown",
   "metadata": {},
   "source": [
    "# TWEEPY"
   ]
  },
  {
   "cell_type": "code",
   "execution_count": 92,
   "metadata": {},
   "outputs": [],
   "source": [
    "import tweepy\n",
    "import pandas as pd\n",
    "import time"
   ]
  },
  {
   "cell_type": "markdown",
   "metadata": {},
   "source": [
    "API setup:"
   ]
  },
  {
   "cell_type": "code",
   "execution_count": 101,
   "metadata": {},
   "outputs": [],
   "source": [
    "import os\n",
    "from dotenv import load_dotenv\n",
    "load_dotenv()\n",
    "\n",
    "\n",
    "consumer_key = os.getenv('CONSUMER_KEY')\n",
    "consumer_secret = os.getenv('CONSUMER_SECRET')\n",
    "access_token = os.getenv('ACCESS_TOKEN')\n",
    "access_token_secret = os.getenv('ACCESS_TOKEN_SECRET')\n",
    "\n",
    "auth = tweepy.OAuthHandler(consumer_key, consumer_secret)\n",
    "auth.set_access_token(access_token, access_token_secret)\n",
    "api = tweepy.API(auth,wait_on_rate_limit=True)"
   ]
  },
  {
   "cell_type": "markdown",
   "metadata": {},
   "source": [
    "Function to add tweets to list:"
   ]
  },
  {
   "cell_type": "code",
   "execution_count": 102,
   "metadata": {},
   "outputs": [],
   "source": [
    "\n",
    "def text_query_to_csv(text_query,count):\n",
    "    try:\n",
    "    # Pulling individual tweets from query\n",
    "        for tweet in api.search(q=text_query, count=count):\n",
    "\n",
    "          # Adding to list that contains all tweets\n",
    "          tweets.append((tweet.created_at,tweet.id,tweet.text))\n",
    "\n",
    "          # Creation of dataframe from tweets list\n",
    "          # tweetsdf = pd.DataFrame(tweets,columns=['Datetime', 'Tweet Id', 'Text'])\n",
    "            \n",
    "          # Converting dataframe to CSV\n",
    "          # tweetsdf.to_csv('{}-tweets.csv'.format(text_query)) \n",
    "\n",
    "    except BaseException as e:\n",
    "        print('failed on_status,',str(e))\n",
    "        time.sleep(3)"
   ]
  },
  {
   "cell_type": "code",
   "execution_count": 103,
   "metadata": {},
   "outputs": [],
   "source": [
    "tweets = []\n",
    "text_query_to_csv('aborto;',200)"
   ]
  },
  {
   "cell_type": "markdown",
   "metadata": {},
   "source": [
    "Tweets to DataFrame"
   ]
  },
  {
   "cell_type": "code",
   "execution_count": 104,
   "metadata": {},
   "outputs": [
    {
     "data": {
      "text/html": [
       "<div>\n",
       "<style scoped>\n",
       "    .dataframe tbody tr th:only-of-type {\n",
       "        vertical-align: middle;\n",
       "    }\n",
       "\n",
       "    .dataframe tbody tr th {\n",
       "        vertical-align: top;\n",
       "    }\n",
       "\n",
       "    .dataframe thead th {\n",
       "        text-align: right;\n",
       "    }\n",
       "</style>\n",
       "<table border=\"1\" class=\"dataframe\">\n",
       "  <thead>\n",
       "    <tr style=\"text-align: right;\">\n",
       "      <th></th>\n",
       "      <th>Datetime</th>\n",
       "      <th>Tweet Id</th>\n",
       "      <th>Text</th>\n",
       "    </tr>\n",
       "  </thead>\n",
       "  <tbody>\n",
       "    <tr>\n",
       "      <th>0</th>\n",
       "      <td>2020-06-29 21:03:52</td>\n",
       "      <td>1277709391966371840</td>\n",
       "      <td>RT @Managua: Han pensado que cuando estemos EN...</td>\n",
       "    </tr>\n",
       "    <tr>\n",
       "      <th>1</th>\n",
       "      <td>2020-06-29 21:03:50</td>\n",
       "      <td>1277709385758846977</td>\n",
       "      <td>@una_geminiana Es que amiga estás diciendo que...</td>\n",
       "    </tr>\n",
       "    <tr>\n",
       "      <th>2</th>\n",
       "      <td>2020-06-29 21:03:49</td>\n",
       "      <td>1277709379781963776</td>\n",
       "      <td>RT @eduardottamendi: @alexbyogurt Aborto legal...</td>\n",
       "    </tr>\n",
       "    <tr>\n",
       "      <th>3</th>\n",
       "      <td>2020-06-29 21:03:48</td>\n",
       "      <td>1277709373582839808</td>\n",
       "      <td>Aquí hay un gran sector que no le conviene la ...</td>\n",
       "    </tr>\n",
       "    <tr>\n",
       "      <th>4</th>\n",
       "      <td>2020-06-29 21:03:44</td>\n",
       "      <td>1277709359708024833</td>\n",
       "      <td>RT @KennedyAlencar: Conservador, presidente da...</td>\n",
       "    </tr>\n",
       "    <tr>\n",
       "      <th>...</th>\n",
       "      <td>...</td>\n",
       "      <td>...</td>\n",
       "      <td>...</td>\n",
       "    </tr>\n",
       "    <tr>\n",
       "      <th>95</th>\n",
       "      <td>2020-06-29 20:57:42</td>\n",
       "      <td>1277707840094863360</td>\n",
       "      <td>RT @SaraVegana: Miércoles 1 de julio se presen...</td>\n",
       "    </tr>\n",
       "    <tr>\n",
       "      <th>96</th>\n",
       "      <td>2020-06-29 20:57:41</td>\n",
       "      <td>1277707836823396353</td>\n",
       "      <td>RT @JuanPolancoB: “Feminismo e Izquierda”, con...</td>\n",
       "    </tr>\n",
       "    <tr>\n",
       "      <th>97</th>\n",
       "      <td>2020-06-29 20:57:41</td>\n",
       "      <td>1277707836211036160</td>\n",
       "      <td>RT @aciprensa: La red social Facebook usa la w...</td>\n",
       "    </tr>\n",
       "    <tr>\n",
       "      <th>98</th>\n",
       "      <td>2020-06-29 20:57:36</td>\n",
       "      <td>1277707813591093254</td>\n",
       "      <td>RT @Ccurieldemoya: Esta es la oportunidad, dur...</td>\n",
       "    </tr>\n",
       "    <tr>\n",
       "      <th>99</th>\n",
       "      <td>2020-06-29 20:57:34</td>\n",
       "      <td>1277707808058880001</td>\n",
       "      <td>#Semáforo: El aborto legal gana terreno en Lui...</td>\n",
       "    </tr>\n",
       "  </tbody>\n",
       "</table>\n",
       "<p>100 rows × 3 columns</p>\n",
       "</div>"
      ],
      "text/plain": [
       "              Datetime             Tweet Id  \\\n",
       "0  2020-06-29 21:03:52  1277709391966371840   \n",
       "1  2020-06-29 21:03:50  1277709385758846977   \n",
       "2  2020-06-29 21:03:49  1277709379781963776   \n",
       "3  2020-06-29 21:03:48  1277709373582839808   \n",
       "4  2020-06-29 21:03:44  1277709359708024833   \n",
       "..                 ...                  ...   \n",
       "95 2020-06-29 20:57:42  1277707840094863360   \n",
       "96 2020-06-29 20:57:41  1277707836823396353   \n",
       "97 2020-06-29 20:57:41  1277707836211036160   \n",
       "98 2020-06-29 20:57:36  1277707813591093254   \n",
       "99 2020-06-29 20:57:34  1277707808058880001   \n",
       "\n",
       "                                                 Text  \n",
       "0   RT @Managua: Han pensado que cuando estemos EN...  \n",
       "1   @una_geminiana Es que amiga estás diciendo que...  \n",
       "2   RT @eduardottamendi: @alexbyogurt Aborto legal...  \n",
       "3   Aquí hay un gran sector que no le conviene la ...  \n",
       "4   RT @KennedyAlencar: Conservador, presidente da...  \n",
       "..                                                ...  \n",
       "95  RT @SaraVegana: Miércoles 1 de julio se presen...  \n",
       "96  RT @JuanPolancoB: “Feminismo e Izquierda”, con...  \n",
       "97  RT @aciprensa: La red social Facebook usa la w...  \n",
       "98  RT @Ccurieldemoya: Esta es la oportunidad, dur...  \n",
       "99  #Semáforo: El aborto legal gana terreno en Lui...  \n",
       "\n",
       "[100 rows x 3 columns]"
      ]
     },
     "execution_count": 104,
     "metadata": {},
     "output_type": "execute_result"
    }
   ],
   "source": [
    "tweetsdf = pd.DataFrame(tweets,columns=['Datetime', 'Tweet Id', 'Text'])\n",
    "tweetsdf"
   ]
  },
  {
   "cell_type": "markdown",
   "metadata": {},
   "source": [
    "# Get Old Tweets\n",
    "https://pypi.org/project/GetOldTweets3/"
   ]
  },
  {
   "cell_type": "code",
   "execution_count": 1,
   "metadata": {},
   "outputs": [],
   "source": [
    "import GetOldTweets3 as got\n",
    "import pandas as pd"
   ]
  },
  {
   "cell_type": "markdown",
   "metadata": {},
   "source": [
    "### 1. Define theme and Country from where to scrape:"
   ]
  },
  {
   "cell_type": "code",
   "execution_count": 4,
   "metadata": {},
   "outputs": [
    {
     "name": "stdout",
     "output_type": "stream",
     "text": [
      "Query search: aborto\n",
      "Country: portugal\n"
     ]
    }
   ],
   "source": [
    "query = input('Query search: ')\n",
    "country = input('Country: ')"
   ]
  },
  {
   "cell_type": "markdown",
   "metadata": {},
   "source": [
    "### 2. Set Tweet Criteria"
   ]
  },
  {
   "cell_type": "code",
   "execution_count": 5,
   "metadata": {},
   "outputs": [],
   "source": [
    "tweetCriteria = got.manager.TweetCriteria().setQuerySearch(query)\\\n",
    "                                           .setMaxTweets(2000)\\\n",
    "                                           .setEmoji(\"unicode\")\\\n",
    "                                           .setNear(country)\n",
    "\n",
    "# .setSince(\"2015-05-01\")\\\n",
    "# .setUntil(\"2015-09-30\")\\"
   ]
  },
  {
   "cell_type": "markdown",
   "metadata": {},
   "source": [
    "### 3. Get tweets"
   ]
  },
  {
   "cell_type": "code",
   "execution_count": 13,
   "metadata": {},
   "outputs": [
    {
     "data": {
      "text/plain": [
       "96"
      ]
     },
     "execution_count": 13,
     "metadata": {},
     "output_type": "execute_result"
    }
   ],
   "source": [
    "tweets = got.manager.TweetManager.getTweets(tweetCriteria)\n",
    "len(tweets)"
   ]
  },
  {
   "cell_type": "markdown",
   "metadata": {},
   "source": [
    "### 4. Set tweets to list"
   ]
  },
  {
   "cell_type": "code",
   "execution_count": 10,
   "metadata": {},
   "outputs": [],
   "source": [
    "tweets_list = [(tweet.date, tweet.id,tweet.retweets, tweet.text) for tweet in tweets]"
   ]
  },
  {
   "cell_type": "markdown",
   "metadata": {},
   "source": [
    "### 5. Save tweets in DataFrame"
   ]
  },
  {
   "cell_type": "code",
   "execution_count": 11,
   "metadata": {},
   "outputs": [
    {
     "data": {
      "text/html": [
       "<div>\n",
       "<style scoped>\n",
       "    .dataframe tbody tr th:only-of-type {\n",
       "        vertical-align: middle;\n",
       "    }\n",
       "\n",
       "    .dataframe tbody tr th {\n",
       "        vertical-align: top;\n",
       "    }\n",
       "\n",
       "    .dataframe thead th {\n",
       "        text-align: right;\n",
       "    }\n",
       "</style>\n",
       "<table border=\"1\" class=\"dataframe\">\n",
       "  <thead>\n",
       "    <tr style=\"text-align: right;\">\n",
       "      <th></th>\n",
       "      <th>Datetime</th>\n",
       "      <th>Tweet Id</th>\n",
       "      <th>Retweets</th>\n",
       "      <th>Text</th>\n",
       "    </tr>\n",
       "  </thead>\n",
       "  <tbody>\n",
       "    <tr>\n",
       "      <th>0</th>\n",
       "      <td>2020-06-29 19:15:33+00:00</td>\n",
       "      <td>1277682132891185152</td>\n",
       "      <td>1</td>\n",
       "      <td>Nova derrota para Trump: Supremo Tribunal “chu...</td>\n",
       "    </tr>\n",
       "    <tr>\n",
       "      <th>1</th>\n",
       "      <td>2020-06-29 19:14:57+00:00</td>\n",
       "      <td>1277681980897996801</td>\n",
       "      <td>1</td>\n",
       "      <td>Quando a @rafaelale_andra vê quem é o aborto 🤣🤣🤣</td>\n",
       "    </tr>\n",
       "    <tr>\n",
       "      <th>2</th>\n",
       "      <td>2020-06-29 18:25:00+00:00</td>\n",
       "      <td>1277669411327897600</td>\n",
       "      <td>0</td>\n",
       "      <td>EUA. Supremo com decisão que defende o direito...</td>\n",
       "    </tr>\n",
       "    <tr>\n",
       "      <th>3</th>\n",
       "      <td>2020-06-29 17:09:44+00:00</td>\n",
       "      <td>1277650472791347201</td>\n",
       "      <td>0</td>\n",
       "      <td>EUA: Supremo dos EUA trava lei anti-aborto em ...</td>\n",
       "    </tr>\n",
       "    <tr>\n",
       "      <th>4</th>\n",
       "      <td>2020-06-29 17:09:44+00:00</td>\n",
       "      <td>1277650471193317378</td>\n",
       "      <td>7</td>\n",
       "      <td>EUA: Supremo dos EUA trava lei anti-aborto em ...</td>\n",
       "    </tr>\n",
       "    <tr>\n",
       "      <th>...</th>\n",
       "      <td>...</td>\n",
       "      <td>...</td>\n",
       "      <td>...</td>\n",
       "      <td>...</td>\n",
       "    </tr>\n",
       "    <tr>\n",
       "      <th>91</th>\n",
       "      <td>2020-06-21 18:39:29+00:00</td>\n",
       "      <td>1274773952762728449</td>\n",
       "      <td>0</td>\n",
       "      <td>Quem é esse aborto dred??</td>\n",
       "    </tr>\n",
       "    <tr>\n",
       "      <th>92</th>\n",
       "      <td>2020-06-21 14:17:48+00:00</td>\n",
       "      <td>1274708101338456064</td>\n",
       "      <td>497</td>\n",
       "      <td>Há coisas TÃO BÁSICAS e ÓBVIAS como ser a favo...</td>\n",
       "    </tr>\n",
       "    <tr>\n",
       "      <th>93</th>\n",
       "      <td>2020-06-21 14:14:40+00:00</td>\n",
       "      <td>1274707311932686336</td>\n",
       "      <td>0</td>\n",
       "      <td>Primeiro, sou contra aborto a partir do moment...</td>\n",
       "    </tr>\n",
       "    <tr>\n",
       "      <th>94</th>\n",
       "      <td>2020-06-21 13:55:59+00:00</td>\n",
       "      <td>1274702611032297472</td>\n",
       "      <td>0</td>\n",
       "      <td>Como é que mostro ser contra o aborto? Não não...</td>\n",
       "    </tr>\n",
       "    <tr>\n",
       "      <th>95</th>\n",
       "      <td>2020-06-21 13:15:33+00:00</td>\n",
       "      <td>1274692435784929280</td>\n",
       "      <td>0</td>\n",
       "      <td>E sobre o aborto, o meu pai diz apenas \"quem b...</td>\n",
       "    </tr>\n",
       "  </tbody>\n",
       "</table>\n",
       "<p>96 rows × 4 columns</p>\n",
       "</div>"
      ],
      "text/plain": [
       "                    Datetime             Tweet Id  Retweets  \\\n",
       "0  2020-06-29 19:15:33+00:00  1277682132891185152         1   \n",
       "1  2020-06-29 19:14:57+00:00  1277681980897996801         1   \n",
       "2  2020-06-29 18:25:00+00:00  1277669411327897600         0   \n",
       "3  2020-06-29 17:09:44+00:00  1277650472791347201         0   \n",
       "4  2020-06-29 17:09:44+00:00  1277650471193317378         7   \n",
       "..                       ...                  ...       ...   \n",
       "91 2020-06-21 18:39:29+00:00  1274773952762728449         0   \n",
       "92 2020-06-21 14:17:48+00:00  1274708101338456064       497   \n",
       "93 2020-06-21 14:14:40+00:00  1274707311932686336         0   \n",
       "94 2020-06-21 13:55:59+00:00  1274702611032297472         0   \n",
       "95 2020-06-21 13:15:33+00:00  1274692435784929280         0   \n",
       "\n",
       "                                                 Text  \n",
       "0   Nova derrota para Trump: Supremo Tribunal “chu...  \n",
       "1    Quando a @rafaelale_andra vê quem é o aborto 🤣🤣🤣  \n",
       "2   EUA. Supremo com decisão que defende o direito...  \n",
       "3   EUA: Supremo dos EUA trava lei anti-aborto em ...  \n",
       "4   EUA: Supremo dos EUA trava lei anti-aborto em ...  \n",
       "..                                                ...  \n",
       "91                          Quem é esse aborto dred??  \n",
       "92  Há coisas TÃO BÁSICAS e ÓBVIAS como ser a favo...  \n",
       "93  Primeiro, sou contra aborto a partir do moment...  \n",
       "94  Como é que mostro ser contra o aborto? Não não...  \n",
       "95  E sobre o aborto, o meu pai diz apenas \"quem b...  \n",
       "\n",
       "[96 rows x 4 columns]"
      ]
     },
     "execution_count": 11,
     "metadata": {},
     "output_type": "execute_result"
    }
   ],
   "source": [
    "tweets_got_df = pd.DataFrame(tweets_list,columns=['Datetime','Tweet Id','Retweets', 'Text'])\n",
    "tweets_got_df"
   ]
  }
 ],
 "metadata": {
  "kernelspec": {
   "display_name": "Python 3.7.6 64-bit ('Ironhack': conda)",
   "language": "python",
   "name": "python37664bitironhackconda2e1d8dd202d44dc690958f22a90cf36f"
  },
  "language_info": {
   "codemirror_mode": {
    "name": "ipython",
    "version": 3
   },
   "file_extension": ".py",
   "mimetype": "text/x-python",
   "name": "python",
   "nbconvert_exporter": "python",
   "pygments_lexer": "ipython3",
   "version": "3.7.6"
  }
 },
 "nbformat": 4,
 "nbformat_minor": 4
}
