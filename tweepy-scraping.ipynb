{
 "cells": [
  {
   "cell_type": "markdown",
   "metadata": {},
   "source": [
    "# TWEEPY SCRAPING"
   ]
  },
  {
   "cell_type": "markdown",
   "metadata": {},
   "source": [
    "## Imports"
   ]
  },
  {
   "cell_type": "code",
   "execution_count": 1,
   "metadata": {},
   "outputs": [],
   "source": [
    "import tweepy\n",
    "import pandas as pd\n",
    "import time\n",
    "import os\n",
    "from dotenv import load_dotenv\n",
    "load_dotenv()\n",
    "import jsonpickle\n",
    "import json"
   ]
  },
  {
   "cell_type": "markdown",
   "metadata": {},
   "source": [
    "## API Connection"
   ]
  },
  {
   "cell_type": "markdown",
   "metadata": {},
   "source": [
    "**Keys:**"
   ]
  },
  {
   "cell_type": "code",
   "execution_count": 2,
   "metadata": {},
   "outputs": [],
   "source": [
    "consumer_key = os.getenv('CONSUMER_KEY')\n",
    "consumer_secret = os.getenv('CONSUMER_SECRET')\n",
    "access_token = os.getenv('ACCESS_TOKEN')\n",
    "access_token_secret = os.getenv('ACCESS_TOKEN_SECRET')"
   ]
  },
  {
   "cell_type": "markdown",
   "metadata": {},
   "source": [
    "**Setup:**\n",
    "\n",
    "Application only Auth instead of the Access Token Auth allows being able to search at a rate greater than 18K tweets/15 mins. "
   ]
  },
  {
   "cell_type": "code",
   "execution_count": 3,
   "metadata": {},
   "outputs": [],
   "source": [
    "# auth = tweepy.OAuthHandler(consumer_key, consumer_secret)\n",
    "# auth.set_access_token(access_token, access_token_secret)\n",
    "# api = tweepy.API(auth,wait_on_rate_limit=True)"
   ]
  },
  {
   "cell_type": "code",
   "execution_count": 4,
   "metadata": {},
   "outputs": [],
   "source": [
    "auth = tweepy.AppAuthHandler(consumer_key, consumer_secret)\n",
    "api = tweepy.API(auth, wait_on_rate_limit=True,wait_on_rate_limit_notify=True)"
   ]
  },
  {
   "cell_type": "markdown",
   "metadata": {},
   "source": [
    "## Scraping functions"
   ]
  },
  {
   "cell_type": "markdown",
   "metadata": {},
   "source": [
    "**Save tweets to .txt:**\n",
    "\n",
    "Reference code can be found in this [link](https://bhaskarvk.github.io/2015/01/how-to-use-twitters-search-rest-api-most-effectively./#:~:text=Application%20only%20auth%20has%20higher,Auth%20using%20the%20Tweepy%20API.)"
   ]
  },
  {
   "cell_type": "code",
   "execution_count": 5,
   "metadata": {},
   "outputs": [],
   "source": [
    "def save_tweets_to_txt(searchQuery,maxTweets):\n",
    "    fName = '{0}-tweets.txt'.format(searchQuery)\n",
    "    sinceId = None\n",
    "    max_id = -1\n",
    "    tweetCount = 0\n",
    "\n",
    "    print(\"Downloading max {0} tweets\".format(maxTweets))\n",
    "\n",
    "    with open(fName, 'w') as f:\n",
    "        while tweetCount < maxTweets:\n",
    "            try:\n",
    "                if (max_id <= 0):\n",
    "                    if (not sinceId):\n",
    "                        new_tweets = api.search(q=searchQuery, count=100)\n",
    "                    else:\n",
    "                        new_tweets = api.search(q=searchQuery, count=100,\n",
    "                                            since_id=sinceId)\n",
    "                else:\n",
    "                    if (not sinceId):\n",
    "                        new_tweets = api.search(q=searchQuery, count=100,\n",
    "                                            max_id=str(max_id - 1))\n",
    "                    else:\n",
    "                        new_tweets = api.search(q=searchQuery, count=100,\n",
    "                                            max_id=str(max_id - 1),\n",
    "                                            since_id=sinceId)\n",
    "                if not new_tweets:\n",
    "                    print(\"No more tweets found\")\n",
    "                    break\n",
    "                for tweet in new_tweets:\n",
    "                    f.write(jsonpickle.encode(tweet._json, unpicklable=False) +'\\n')\n",
    "                tweetCount += len(new_tweets)\n",
    "                print(\"Downloaded {0} tweets\".format(tweetCount))\n",
    "                max_id = new_tweets[-1].id\n",
    "                \n",
    "            except tweepy.TweepError as e:\n",
    "            # Just exit if any error\n",
    "                print(\"some error : \" + str(e))\n",
    "                break\n",
    "\n",
    "    print (\"Downloaded {0} tweets, Saved to {1}\".format(tweetCount, fName))\n"
   ]
  },
  {
   "cell_type": "markdown",
   "metadata": {},
   "source": [
    "Run the following code tu save load the .txt into a json object"
   ]
  },
  {
   "cell_type": "code",
   "execution_count": 6,
   "metadata": {},
   "outputs": [],
   "source": [
    "# file_name=''\n",
    "\n",
    "# with open(file_name) as file:\n",
    "#     status = [json.loads(line) for line in file]"
   ]
  },
  {
   "cell_type": "markdown",
   "metadata": {},
   "source": [
    "**Save tweets to DataFrame:**"
   ]
  },
  {
   "cell_type": "code",
   "execution_count": 7,
   "metadata": {},
   "outputs": [],
   "source": [
    "def tweets_to_df(searchQuery,maxTweets,language='',geocode=[]):\n",
    "    # If results from a specific ID onwards are reqd, set since_id to that ID.\n",
    "    # else default to no lower limit, go as far back as API allows\n",
    "    sinceId = None\n",
    "\n",
    "    # If results only below a specific ID are, set max_id to that ID.\n",
    "    # else default to no upper limit, start from the most recent tweet matching the search query.\n",
    "    max_id = -1\n",
    "    tweetCount = 0\n",
    "\n",
    "    print(\"Downloading max {0} tweets\".format(maxTweets))\n",
    "\n",
    "    tweets=[]\n",
    "\n",
    "    while tweetCount < maxTweets:\n",
    "        try:\n",
    "            if (max_id <= 0):\n",
    "                if (not sinceId):\n",
    "                    new_tweets = api.search(q=searchQuery, count=100,lang=language,tweet_mode='extended')\n",
    "                else:\n",
    "                     new_tweets = api.search(q=searchQuery, count=100,lang=language,since_id=sinceId,tweet_mode='extended')\n",
    "            else:\n",
    "                if (not sinceId):\n",
    "                    new_tweets = api.search(q=searchQuery, count=100,lang=language,tweet_mode='extended',\n",
    "                                            max_id=str(max_id - 1))\n",
    "                else:\n",
    "                    new_tweets = api.search(q=searchQuery, count=100,lang=language,tweet_mode='extended',\n",
    "                                            max_id=str(max_id - 1),\n",
    "                                            since_id=sinceId)\n",
    "            if not new_tweets:\n",
    "                print(\"No more tweets found\")\n",
    "                break\n",
    "            for tweet in new_tweets:\n",
    "                tweets.append(tweet._json)\n",
    "            tweetCount += len(new_tweets)\n",
    "            print(\"Downloaded {0} tweets\".format(tweetCount))\n",
    "            max_id = new_tweets[-1].id\n",
    "        \n",
    "        except tweepy.TweepError as e:\n",
    "            # Just exit if any error\n",
    "            print(\"some error : \" + str(e))\n",
    "            break\n",
    "\n",
    "    print (\"Downloaded {0} tweets\".format(tweetCount))\n",
    "    return pd.DataFrame(tweets)\n"
   ]
  },
  {
   "cell_type": "markdown",
   "metadata": {},
   "source": [
    "## Scraping & saving to CSV 🙌🏼"
   ]
  },
  {
   "cell_type": "code",
   "execution_count": 9,
   "metadata": {},
   "outputs": [
    {
     "name": "stdout",
     "output_type": "stream",
     "text": [
      "Set maximun tweets: 1000\n",
      "Choose query: todes\n",
      "Choose language or leave empty: es\n",
      "latitude: \n",
      "longitude: \n",
      "radius: \n"
     ]
    }
   ],
   "source": [
    "max_tweets = int(input('Set maximun tweets: '))\n",
    "query = input('Choose query: ')\n",
    "language = input('Choose language or leave empty: ')\n",
    "geocode = [input('latitude: '), input('longitude: '),input('radius: ')]"
   ]
  },
  {
   "cell_type": "code",
   "execution_count": 10,
   "metadata": {},
   "outputs": [
    {
     "name": "stdout",
     "output_type": "stream",
     "text": [
      "Downloading max 1000 tweets\n",
      "Downloaded 100 tweets\n",
      "Downloaded 200 tweets\n",
      "Downloaded 300 tweets\n",
      "Downloaded 400 tweets\n",
      "Downloaded 500 tweets\n",
      "Downloaded 600 tweets\n",
      "Downloaded 700 tweets\n",
      "Downloaded 800 tweets\n",
      "Downloaded 900 tweets\n",
      "Downloaded 1000 tweets\n",
      "Downloaded 1000 tweets\n"
     ]
    }
   ],
   "source": [
    "tweets = tweets_to_df(query,max_tweets,language,geocode)"
   ]
  },
  {
   "cell_type": "markdown",
   "metadata": {},
   "source": [
    "**Change truncated tweets to full_text**"
   ]
  },
  {
   "cell_type": "code",
   "execution_count": 11,
   "metadata": {},
   "outputs": [],
   "source": [
    "def get_full_text(df):\n",
    "    df['condition'] = df['retweeted_status'].isna()\n",
    "    df['full_text'] = df.apply(lambda x: x.full_text if (x.condition == True) else x.retweeted_status['full_text'] , axis = 1)\n",
    "    df.drop('condition', inplace=True,axis=1)\n",
    "    return df\n",
    "    "
   ]
  },
  {
   "cell_type": "code",
   "execution_count": 12,
   "metadata": {},
   "outputs": [],
   "source": [
    "tweets_df = get_full_text(tweets)"
   ]
  },
  {
   "cell_type": "code",
   "execution_count": 13,
   "metadata": {},
   "outputs": [],
   "source": [
    "# tweets_df.to_csv(' '.join(query.split())+'.csv', index=False)"
   ]
  },
  {
   "cell_type": "code",
   "execution_count": 14,
   "metadata": {},
   "outputs": [
    {
     "data": {
      "text/html": [
       "<div>\n",
       "<style scoped>\n",
       "    .dataframe tbody tr th:only-of-type {\n",
       "        vertical-align: middle;\n",
       "    }\n",
       "\n",
       "    .dataframe tbody tr th {\n",
       "        vertical-align: top;\n",
       "    }\n",
       "\n",
       "    .dataframe thead th {\n",
       "        text-align: right;\n",
       "    }\n",
       "</style>\n",
       "<table border=\"1\" class=\"dataframe\">\n",
       "  <thead>\n",
       "    <tr style=\"text-align: right;\">\n",
       "      <th></th>\n",
       "      <th>created_at</th>\n",
       "      <th>id</th>\n",
       "      <th>id_str</th>\n",
       "      <th>full_text</th>\n",
       "      <th>truncated</th>\n",
       "      <th>display_text_range</th>\n",
       "      <th>entities</th>\n",
       "      <th>metadata</th>\n",
       "      <th>source</th>\n",
       "      <th>in_reply_to_status_id</th>\n",
       "      <th>...</th>\n",
       "      <th>retweet_count</th>\n",
       "      <th>favorite_count</th>\n",
       "      <th>favorited</th>\n",
       "      <th>retweeted</th>\n",
       "      <th>lang</th>\n",
       "      <th>quoted_status_id</th>\n",
       "      <th>quoted_status_id_str</th>\n",
       "      <th>quoted_status</th>\n",
       "      <th>possibly_sensitive</th>\n",
       "      <th>extended_entities</th>\n",
       "    </tr>\n",
       "  </thead>\n",
       "  <tbody>\n",
       "    <tr>\n",
       "      <th>0</th>\n",
       "      <td>Fri Jul 24 18:13:28 +0000 2020</td>\n",
       "      <td>1286726205593411584</td>\n",
       "      <td>1286726205593411584</td>\n",
       "      <td>alch qué bueno que el sein se salió de 1d y no...</td>\n",
       "      <td>False</td>\n",
       "      <td>[0, 132]</td>\n",
       "      <td>{'hashtags': [], 'symbols': [], 'user_mentions...</td>\n",
       "      <td>{'iso_language_code': 'es', 'result_type': 're...</td>\n",
       "      <td>&lt;a href=\"http://twitter.com/download/android\" ...</td>\n",
       "      <td>NaN</td>\n",
       "      <td>...</td>\n",
       "      <td>41</td>\n",
       "      <td>0</td>\n",
       "      <td>False</td>\n",
       "      <td>False</td>\n",
       "      <td>es</td>\n",
       "      <td>NaN</td>\n",
       "      <td>NaN</td>\n",
       "      <td>NaN</td>\n",
       "      <td>NaN</td>\n",
       "      <td>NaN</td>\n",
       "    </tr>\n",
       "    <tr>\n",
       "      <th>1</th>\n",
       "      <td>Fri Jul 24 18:13:27 +0000 2020</td>\n",
       "      <td>1286726200254255106</td>\n",
       "      <td>1286726200254255106</td>\n",
       "      <td>La Real Academia Española ratificó el no al \"t...</td>\n",
       "      <td>False</td>\n",
       "      <td>[0, 92]</td>\n",
       "      <td>{'hashtags': [], 'symbols': [], 'user_mentions...</td>\n",
       "      <td>{'iso_language_code': 'es', 'result_type': 're...</td>\n",
       "      <td>&lt;a href=\"http://twitter.com/download/android\" ...</td>\n",
       "      <td>NaN</td>\n",
       "      <td>...</td>\n",
       "      <td>4119</td>\n",
       "      <td>0</td>\n",
       "      <td>False</td>\n",
       "      <td>False</td>\n",
       "      <td>es</td>\n",
       "      <td>NaN</td>\n",
       "      <td>NaN</td>\n",
       "      <td>NaN</td>\n",
       "      <td>NaN</td>\n",
       "      <td>NaN</td>\n",
       "    </tr>\n",
       "    <tr>\n",
       "      <th>2</th>\n",
       "      <td>Fri Jul 24 18:13:11 +0000 2020</td>\n",
       "      <td>1286726136291110912</td>\n",
       "      <td>1286726136291110912</td>\n",
       "      <td>@PJudicialChile Que no sea una excepcion, que ...</td>\n",
       "      <td>False</td>\n",
       "      <td>[0, 140]</td>\n",
       "      <td>{'hashtags': [], 'symbols': [], 'user_mentions...</td>\n",
       "      <td>{'iso_language_code': 'es', 'result_type': 're...</td>\n",
       "      <td>&lt;a href=\"http://twitter.com/download/android\" ...</td>\n",
       "      <td>NaN</td>\n",
       "      <td>...</td>\n",
       "      <td>8</td>\n",
       "      <td>0</td>\n",
       "      <td>False</td>\n",
       "      <td>False</td>\n",
       "      <td>es</td>\n",
       "      <td>NaN</td>\n",
       "      <td>NaN</td>\n",
       "      <td>NaN</td>\n",
       "      <td>NaN</td>\n",
       "      <td>NaN</td>\n",
       "    </tr>\n",
       "    <tr>\n",
       "      <th>3</th>\n",
       "      <td>Fri Jul 24 18:13:09 +0000 2020</td>\n",
       "      <td>1286726126497398786</td>\n",
       "      <td>1286726126497398786</td>\n",
       "      <td>La presión de la ola feminista arrasó con la m...</td>\n",
       "      <td>False</td>\n",
       "      <td>[0, 265]</td>\n",
       "      <td>{'hashtags': [{'text': 'SomosMás', 'indices': ...</td>\n",
       "      <td>{'iso_language_code': 'es', 'result_type': 're...</td>\n",
       "      <td>&lt;a href=\"https://mobile.twitter.com\" rel=\"nofo...</td>\n",
       "      <td>NaN</td>\n",
       "      <td>...</td>\n",
       "      <td>1</td>\n",
       "      <td>1</td>\n",
       "      <td>False</td>\n",
       "      <td>False</td>\n",
       "      <td>es</td>\n",
       "      <td>1.286716e+18</td>\n",
       "      <td>1286716051384946690</td>\n",
       "      <td>{'created_at': 'Fri Jul 24 17:33:07 +0000 2020...</td>\n",
       "      <td>False</td>\n",
       "      <td>NaN</td>\n",
       "    </tr>\n",
       "    <tr>\n",
       "      <th>4</th>\n",
       "      <td>Fri Jul 24 18:12:59 +0000 2020</td>\n",
       "      <td>1286726084764078082</td>\n",
       "      <td>1286726084764078082</td>\n",
       "      <td>La Real Academia Española ratificó el no al \"t...</td>\n",
       "      <td>False</td>\n",
       "      <td>[0, 208]</td>\n",
       "      <td>{'hashtags': [{'text': 'PAZ', 'indices': [189,...</td>\n",
       "      <td>{'iso_language_code': 'es', 'result_type': 're...</td>\n",
       "      <td>&lt;a href=\"http://twitter.com/download/android\" ...</td>\n",
       "      <td>NaN</td>\n",
       "      <td>...</td>\n",
       "      <td>0</td>\n",
       "      <td>1</td>\n",
       "      <td>False</td>\n",
       "      <td>False</td>\n",
       "      <td>es</td>\n",
       "      <td>NaN</td>\n",
       "      <td>NaN</td>\n",
       "      <td>NaN</td>\n",
       "      <td>NaN</td>\n",
       "      <td>NaN</td>\n",
       "    </tr>\n",
       "  </tbody>\n",
       "</table>\n",
       "<p>5 rows × 31 columns</p>\n",
       "</div>"
      ],
      "text/plain": [
       "                       created_at                   id               id_str  \\\n",
       "0  Fri Jul 24 18:13:28 +0000 2020  1286726205593411584  1286726205593411584   \n",
       "1  Fri Jul 24 18:13:27 +0000 2020  1286726200254255106  1286726200254255106   \n",
       "2  Fri Jul 24 18:13:11 +0000 2020  1286726136291110912  1286726136291110912   \n",
       "3  Fri Jul 24 18:13:09 +0000 2020  1286726126497398786  1286726126497398786   \n",
       "4  Fri Jul 24 18:12:59 +0000 2020  1286726084764078082  1286726084764078082   \n",
       "\n",
       "                                           full_text  truncated  \\\n",
       "0  alch qué bueno que el sein se salió de 1d y no...      False   \n",
       "1  La Real Academia Española ratificó el no al \"t...      False   \n",
       "2  @PJudicialChile Que no sea una excepcion, que ...      False   \n",
       "3  La presión de la ola feminista arrasó con la m...      False   \n",
       "4  La Real Academia Española ratificó el no al \"t...      False   \n",
       "\n",
       "  display_text_range                                           entities  \\\n",
       "0           [0, 132]  {'hashtags': [], 'symbols': [], 'user_mentions...   \n",
       "1            [0, 92]  {'hashtags': [], 'symbols': [], 'user_mentions...   \n",
       "2           [0, 140]  {'hashtags': [], 'symbols': [], 'user_mentions...   \n",
       "3           [0, 265]  {'hashtags': [{'text': 'SomosMás', 'indices': ...   \n",
       "4           [0, 208]  {'hashtags': [{'text': 'PAZ', 'indices': [189,...   \n",
       "\n",
       "                                            metadata  \\\n",
       "0  {'iso_language_code': 'es', 'result_type': 're...   \n",
       "1  {'iso_language_code': 'es', 'result_type': 're...   \n",
       "2  {'iso_language_code': 'es', 'result_type': 're...   \n",
       "3  {'iso_language_code': 'es', 'result_type': 're...   \n",
       "4  {'iso_language_code': 'es', 'result_type': 're...   \n",
       "\n",
       "                                              source  in_reply_to_status_id  \\\n",
       "0  <a href=\"http://twitter.com/download/android\" ...                    NaN   \n",
       "1  <a href=\"http://twitter.com/download/android\" ...                    NaN   \n",
       "2  <a href=\"http://twitter.com/download/android\" ...                    NaN   \n",
       "3  <a href=\"https://mobile.twitter.com\" rel=\"nofo...                    NaN   \n",
       "4  <a href=\"http://twitter.com/download/android\" ...                    NaN   \n",
       "\n",
       "   ... retweet_count  favorite_count favorited retweeted lang  \\\n",
       "0  ...            41               0     False     False   es   \n",
       "1  ...          4119               0     False     False   es   \n",
       "2  ...             8               0     False     False   es   \n",
       "3  ...             1               1     False     False   es   \n",
       "4  ...             0               1     False     False   es   \n",
       "\n",
       "  quoted_status_id quoted_status_id_str  \\\n",
       "0              NaN                  NaN   \n",
       "1              NaN                  NaN   \n",
       "2              NaN                  NaN   \n",
       "3     1.286716e+18  1286716051384946690   \n",
       "4              NaN                  NaN   \n",
       "\n",
       "                                       quoted_status possibly_sensitive  \\\n",
       "0                                                NaN                NaN   \n",
       "1                                                NaN                NaN   \n",
       "2                                                NaN                NaN   \n",
       "3  {'created_at': 'Fri Jul 24 17:33:07 +0000 2020...              False   \n",
       "4                                                NaN                NaN   \n",
       "\n",
       "  extended_entities  \n",
       "0               NaN  \n",
       "1               NaN  \n",
       "2               NaN  \n",
       "3               NaN  \n",
       "4               NaN  \n",
       "\n",
       "[5 rows x 31 columns]"
      ]
     },
     "execution_count": 14,
     "metadata": {},
     "output_type": "execute_result"
    }
   ],
   "source": [
    "tweets_df.head()"
   ]
  },
  {
   "cell_type": "markdown",
   "metadata": {},
   "source": [
    "### TODO\n",
    "\n",
    "1. Top words\n"
   ]
  },
  {
   "cell_type": "markdown",
   "metadata": {},
   "source": [
    "2. More retweets"
   ]
  },
  {
   "cell_type": "code",
   "execution_count": 80,
   "metadata": {},
   "outputs": [],
   "source": [
    "def get_top_tweets(df,top_nb):\n",
    "    sorted_tweets = df.sort_values(by='retweet_count', ascending=False).full_text\n",
    "\n",
    "    top = []\n",
    "\n",
    "    for tweet in sorted_tweets:\n",
    "        while len(top) < top_nb  and tweet not in top:\n",
    "            top.append(tweet)\n",
    "    return top"
   ]
  },
  {
   "cell_type": "code",
   "execution_count": 81,
   "metadata": {},
   "outputs": [
    {
     "data": {
      "text/plain": [
       "['La Real Academia Española ratificó el no al \"todes\". Una estupidez menos',\n",
       " 'No al \"todes\": la Real Academia Española le puso un freno al lenguaje inclusivo - https://t.co/013hGKLAhx',\n",
       " 'Tengo una tarea para todes! Me ayudan a difundir? Este domingo hay un altísimo festival latinoamericano gratuito \"Somos antídoto\" organizado por #EFAC Espacio de la Fraternidad Argentino Cubana. Ah y es gratuito. A ver esos RT! https://t.co/T9xAcCFDiT',\n",
       " '\"Cuando decimos todes no hacemos el ridículo, le hablamos a les que antes no le hablaban\".\\nLo dijo @alferdez hace una semana.\\nSí, chiques, dijo TODES en cadena nacional.\\nPorque dice lo que hace.',\n",
       " '\"Les animales son personas porque tienen personalidad\" todes.\\n😂😂😂😂😂😂😂😂😂😂😂😂😂😂😂😂😂😂😂😂😂😂 me parto😭😭\\nCasi me muero. https://t.co/jXu8Vglmno']"
      ]
     },
     "execution_count": 81,
     "metadata": {},
     "output_type": "execute_result"
    }
   ],
   "source": [
    "get_top_tweets(tweets_df,5)"
   ]
  },
  {
   "cell_type": "code",
   "execution_count": 107,
   "metadata": {},
   "outputs": [],
   "source": [
    "def get_top_tweets(df,top_nb):    \n",
    "    sorted_tweets =df.sort_values(by='retweet_count', ascending=False)\n",
    "    top = []\n",
    "\n",
    "\n",
    "    for i in range(len(sorted_tweets)):\n",
    "        if len(top) < top_nb:\n",
    "            text = [x.full_text for x in top]\n",
    "            if sorted_tweets.iloc[i].full_text not in text:\n",
    "                top.append(sorted_tweets.iloc[i])\n",
    "        else:\n",
    "            break\n",
    "    return [{\"text\": x.full_text, \n",
    "      \"name\": x.retweeted_status['user']['name'],\n",
    "      \"screen_name\":x.retweeted_status['user']['screen_name'],\n",
    "      \"favorite_count\":x.retweeted_status['favorite_count'],\n",
    "      \"retweeted_count\":x.retweet_count} for x in top]"
   ]
  },
  {
   "cell_type": "code",
   "execution_count": 108,
   "metadata": {},
   "outputs": [
    {
     "data": {
      "text/plain": [
       "[{'text': 'La Real Academia Española ratificó el no al \"todes\". Una estupidez menos',\n",
       "  'name': 'Guillermo Salatino',\n",
       "  'screen_name': 'GuilleSalatino',\n",
       "  'favorite_count': 15884,\n",
       "  'retweeted_count': 4119},\n",
       " {'text': 'No al \"todes\": la Real Academia Española le puso un freno al lenguaje inclusivo - https://t.co/013hGKLAhx',\n",
       "  'name': 'Estela Tramontini',\n",
       "  'screen_name': 'EstelaTramonti2',\n",
       "  'favorite_count': 1422,\n",
       "  'retweeted_count': 847},\n",
       " {'text': 'Tengo una tarea para todes! Me ayudan a difundir? Este domingo hay un altísimo festival latinoamericano gratuito \"Somos antídoto\" organizado por #EFAC Espacio de la Fraternidad Argentino Cubana. Ah y es gratuito. A ver esos RT! https://t.co/T9xAcCFDiT',\n",
       "  'name': 'gaby delelisi',\n",
       "  'screen_name': 'gabydelelisi',\n",
       "  'favorite_count': 844,\n",
       "  'retweeted_count': 836},\n",
       " {'text': '\"Cuando decimos todes no hacemos el ridículo, le hablamos a les que antes no le hablaban\".\\nLo dijo @alferdez hace una semana.\\nSí, chiques, dijo TODES en cadena nacional.\\nPorque dice lo que hace.',\n",
       "  'name': 'Gabriela Cerruti',\n",
       "  'screen_name': 'gabicerru',\n",
       "  'favorite_count': 3208,\n",
       "  'retweeted_count': 533},\n",
       " {'text': '\"Les animales son personas porque tienen personalidad\" todes.\\n😂😂😂😂😂😂😂😂😂😂😂😂😂😂😂😂😂😂😂😂😂😂 me parto😭😭\\nCasi me muero. https://t.co/jXu8Vglmno',\n",
       "  'name': 'Bertrand Ndongo',\n",
       "  'screen_name': 'bertrandmyd',\n",
       "  'favorite_count': 1432,\n",
       "  'retweeted_count': 465}]"
      ]
     },
     "execution_count": 108,
     "metadata": {},
     "output_type": "execute_result"
    }
   ],
   "source": [
    "get_top_tweets(tweets_df,5)"
   ]
  },
  {
   "cell_type": "code",
   "execution_count": null,
   "metadata": {},
   "outputs": [],
   "source": []
  }
 ],
 "metadata": {
  "kernelspec": {
   "display_name": "Python 3.7.6 64-bit ('Ironhack': conda)",
   "language": "python",
   "name": "python37664bitironhackconda2e1d8dd202d44dc690958f22a90cf36f"
  },
  "language_info": {
   "codemirror_mode": {
    "name": "ipython",
    "version": 3
   },
   "file_extension": ".py",
   "mimetype": "text/x-python",
   "name": "python",
   "nbconvert_exporter": "python",
   "pygments_lexer": "ipython3",
   "version": "3.7.6"
  }
 },
 "nbformat": 4,
 "nbformat_minor": 4
}
